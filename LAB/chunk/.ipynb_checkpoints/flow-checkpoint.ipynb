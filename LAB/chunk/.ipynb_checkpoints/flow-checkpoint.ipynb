{
 "cells": [
  {
   "cell_type": "markdown",
   "id": "289e25e4",
   "metadata": {},
   "source": [
    "# Program to turn large files into small datasets in HDF5"
   ]
  },
  {
   "cell_type": "raw",
   "id": "5020a03a",
   "metadata": {},
   "source": [
    "Part 1: Add Libraries"
   ]
  },
  {
   "cell_type": "code",
   "execution_count": 22,
   "id": "933fa552",
   "metadata": {},
   "outputs": [],
   "source": [
    "import math\n",
    "import pandas as pd\n",
    "import numpy as np\n",
    "from pathlib import Path\n",
    "from typing import Optional, Union\n",
    "\n",
    "#temporary\n",
    "import os"
   ]
  },
  {
   "cell_type": "raw",
   "id": "7458694b",
   "metadata": {},
   "source": [
    "Part 2: Files Path and Variables"
   ]
  },
  {
   "cell_type": "code",
   "execution_count": 26,
   "id": "f05244a4",
   "metadata": {},
   "outputs": [
    {
     "data": {
      "text/plain": [
       "'/Users/andrerico/DEV-local/LAB/chunk/0_data/plink/plink_test_small'"
      ]
     },
     "execution_count": 26,
     "metadata": {},
     "output_type": "execute_result"
    }
   ],
   "source": [
    "v_data_dir = Path().parent / \"0_data\" / \"plink\"\n",
    "v_input = str(v_data_dir / \"plink_test_small\")\n",
    "v_outpu = \"data.h5\"\n",
    "v_chunk = 2000\n",
    "\n",
    "temp = os.getcwd()\n",
    "v_input = str(temp + \"/0_data/plink/plink_test_small\")\n",
    "\n",
    "v_input"
   ]
  },
  {
   "cell_type": "raw",
   "id": "f4891b69",
   "metadata": {},
   "source": [
    "Part 3: Check Files"
   ]
  },
  {
   "cell_type": "code",
   "execution_count": 28,
   "id": "fd6352ee",
   "metadata": {},
   "outputs": [
    {
     "name": "stdout",
     "output_type": "stream",
     "text": [
      "/Users/andrerico/DEV-local/LAB/chunk\n",
      ".\n"
     ]
    },
    {
     "ename": "NameError",
     "evalue": "name 'bim_file' is not defined",
     "output_type": "error",
     "traceback": [
      "\u001b[0;31m---------------------------------------------------------------------------\u001b[0m",
      "\u001b[0;31mNameError\u001b[0m                                 Traceback (most recent call last)",
      "\u001b[0;32m/var/folders/tv/qf2nl0h10kn_55zkv8p1wy3r0000gn/T/ipykernel_13271/1881558318.py\u001b[0m in \u001b[0;36m<module>\u001b[0;34m\u001b[0m\n\u001b[1;32m      9\u001b[0m \u001b[0;34m\u001b[0m\u001b[0m\n\u001b[1;32m     10\u001b[0m \u001b[0;31m# Make sure each file exists\u001b[0m\u001b[0;34m\u001b[0m\u001b[0;34m\u001b[0m\u001b[0m\n\u001b[0;32m---> 11\u001b[0;31m \u001b[0;32mif\u001b[0m \u001b[0;32mnot\u001b[0m \u001b[0mPath\u001b[0m\u001b[0;34m(\u001b[0m\u001b[0mbim_file\u001b[0m\u001b[0;34m)\u001b[0m\u001b[0;34m.\u001b[0m\u001b[0mexists\u001b[0m\u001b[0;34m(\u001b[0m\u001b[0;34m)\u001b[0m\u001b[0;34m:\u001b[0m\u001b[0;34m\u001b[0m\u001b[0;34m\u001b[0m\u001b[0m\n\u001b[0m\u001b[1;32m     12\u001b[0m     \u001b[0;32mraise\u001b[0m \u001b[0mValueError\u001b[0m\u001b[0;34m(\u001b[0m\u001b[0;34mf\"The .bim file was not found\\n\\t{str(bim_file)}\"\u001b[0m\u001b[0;34m)\u001b[0m\u001b[0;34m\u001b[0m\u001b[0;34m\u001b[0m\u001b[0m\n\u001b[1;32m     13\u001b[0m \u001b[0;32mif\u001b[0m \u001b[0;32mnot\u001b[0m \u001b[0mPath\u001b[0m\u001b[0;34m(\u001b[0m\u001b[0mfam_file\u001b[0m\u001b[0;34m)\u001b[0m\u001b[0;34m.\u001b[0m\u001b[0mexists\u001b[0m\u001b[0;34m(\u001b[0m\u001b[0;34m)\u001b[0m\u001b[0;34m:\u001b[0m\u001b[0;34m\u001b[0m\u001b[0;34m\u001b[0m\u001b[0m\n",
      "\u001b[0;31mNameError\u001b[0m: name 'bim_file' is not defined"
     ]
    }
   ],
   "source": [
    "v_bim_file = (v_input + \".bim\")\n",
    "v_fam_file = (v_input + \".fam\")\n",
    "\n",
    "v_bim_file\n",
    "\n",
    "print(os.getcwd())\n",
    "\n",
    "print(Path())\n",
    "\n",
    "# Make sure each file exists\n",
    "if not Path(bim_file).exists():\n",
    "    raise ValueError(f\"The .bim file was not found\\n\\t{str(bim_file)}\")\n",
    "if not Path(fam_file).exists():\n",
    "    raise ValueError(f\"The .fam file was not found\\n\\t{str(fam_file)}\")\n",
    "\n",
    "print(f\"Loading genetic data from '{fam_file.stem}'\")\n"
   ]
  },
  {
   "cell_type": "code",
   "execution_count": 12,
   "id": "96326ccb",
   "metadata": {},
   "outputs": [
    {
     "name": "stdout",
     "output_type": "stream",
     "text": [
      "----------Started Samples Process---------\n"
     ]
    },
    {
     "ename": "NameError",
     "evalue": "name 'fam_file' is not defined",
     "output_type": "error",
     "traceback": [
      "\u001b[0;31m---------------------------------------------------------------------------\u001b[0m",
      "\u001b[0;31mNameError\u001b[0m                                 Traceback (most recent call last)",
      "\u001b[0;32m/var/folders/tv/qf2nl0h10kn_55zkv8p1wy3r0000gn/T/ipykernel_13271/2023790376.py\u001b[0m in \u001b[0;36m<module>\u001b[0;34m\u001b[0m\n\u001b[1;32m      4\u001b[0m \u001b[0;31m# Load fam file (PLINK sample information file) into a list of Samples\u001b[0m\u001b[0;34m\u001b[0m\u001b[0;34m\u001b[0m\u001b[0m\n\u001b[1;32m      5\u001b[0m \u001b[0mprint\u001b[0m\u001b[0;34m(\u001b[0m\u001b[0;34m\"----------Started Samples Process---------\"\u001b[0m\u001b[0;34m)\u001b[0m\u001b[0;34m\u001b[0m\u001b[0;34m\u001b[0m\u001b[0m\n\u001b[0;32m----> 6\u001b[0;31m \u001b[0mdf\u001b[0m \u001b[0;34m=\u001b[0m \u001b[0mpd\u001b[0m\u001b[0;34m.\u001b[0m\u001b[0mread_table\u001b[0m\u001b[0;34m(\u001b[0m\u001b[0mfam_file\u001b[0m\u001b[0;34m,\u001b[0m \u001b[0mheader\u001b[0m\u001b[0;34m=\u001b[0m\u001b[0;32mNone\u001b[0m\u001b[0;34m,\u001b[0m \u001b[0msep\u001b[0m\u001b[0;34m=\u001b[0m\u001b[0;34m\" \"\u001b[0m\u001b[0;34m)\u001b[0m\u001b[0;34m\u001b[0m\u001b[0;34m\u001b[0m\u001b[0m\n\u001b[0m\u001b[1;32m      7\u001b[0m \u001b[0mdf\u001b[0m\u001b[0;34m.\u001b[0m\u001b[0mcolumns\u001b[0m \u001b[0;34m=\u001b[0m \u001b[0;34m[\u001b[0m\u001b[0;34m\"FID\"\u001b[0m\u001b[0;34m,\u001b[0m \u001b[0;34m\"IID\"\u001b[0m\u001b[0;34m,\u001b[0m \u001b[0;34m\"IID_father\"\u001b[0m\u001b[0;34m,\u001b[0m \u001b[0;34m\"IID_mother\"\u001b[0m\u001b[0;34m,\u001b[0m \u001b[0;34m\"sex\"\u001b[0m\u001b[0;34m,\u001b[0m \u001b[0;34m\"phenotype\"\u001b[0m\u001b[0;34m]\u001b[0m\u001b[0;34m\u001b[0m\u001b[0;34m\u001b[0m\u001b[0m\n\u001b[1;32m      8\u001b[0m \u001b[0mhdf\u001b[0m\u001b[0;34m.\u001b[0m\u001b[0mput\u001b[0m\u001b[0;34m(\u001b[0m\u001b[0mstr\u001b[0m\u001b[0;34m(\u001b[0m\u001b[0;34m\"/fam/samples\"\u001b[0m\u001b[0;34m)\u001b[0m\u001b[0;34m,\u001b[0m \u001b[0mdf\u001b[0m\u001b[0;34m)\u001b[0m\u001b[0;34m\u001b[0m\u001b[0;34m\u001b[0m\u001b[0m\n",
      "\u001b[0;31mNameError\u001b[0m: name 'fam_file' is not defined"
     ]
    }
   ],
   "source": [
    "hdf = pd.HDFStore(\"~/public/data.h5\")  # Open .h5 files as Append Mode\n",
    "# hdf = pd.HDFStore(\"/storage/home/alr6366/scratch/data.h5\")\n",
    " \n",
    "# Load fam file (PLINK sample information file) into a list of Samples\n",
    "print(\"----------Started Samples Process---------\")\n",
    "df = pd.read_table(fam_file, header=None, sep=\" \")\n",
    "df.columns = [\"FID\", \"IID\", \"IID_father\", \"IID_mother\", \"sex\", \"phenotype\"]\n",
    "hdf.put(str(\"/fam/samples\"), df)\n",
    "hdf.flush()\n",
    "print(f\"\\tLoaded information for {len(df)} samples from '{fam_file.name}'\")\n",
    "print(f\"\\tSaved in /fam/samples table in ....\")"
   ]
  },
  {
   "cell_type": "code",
   "execution_count": null,
   "id": "976be6db",
   "metadata": {},
   "outputs": [],
   "source": [
    "# Load bim file (PLINK extended MAP file) into a list of variants\n",
    "    print(\"----------Started Variants Process---------\")\n",
    "    variant_list = pd.read_table(bim_file, header=None, sep=\"\\t\")\n",
    "    v_cicles = math.ceil(len(variant_list) / v_chunk)\n",
    "\n",
    "    hdf.put(\"/cicles\", pd.Series(v_cicles))\n",
    "\n",
    "    variant_splitted = np.array_split(variant_list, v_cicles)\n",
    "    variant_splitted = np.asarray(variant_splitted, dtype=object)\n",
    "\n",
    "    # for idx, x in np.ndenumerate(variant_splitted):\n",
    "    for x in range(v_cicles):\n",
    "        base = np.asarray(variant_splitted[x], dtype=object)\n",
    "        dataset = str(\"/bim/variants_\" + str(x))\n",
    "        hdf.put(dataset, base)\n",
    "        hdf.flush()\n",
    "        print(\"\\tAdd datas to dataset\")\n",
    "\n",
    "    hdf.close()\n",
    "\n",
    "    return \"OK\""
   ]
  }
 ],
 "metadata": {
  "kernelspec": {
   "display_name": "Python 3 (ipykernel)",
   "language": "python",
   "name": "python3"
  },
  "language_info": {
   "codemirror_mode": {
    "name": "ipython",
    "version": 3
   },
   "file_extension": ".py",
   "mimetype": "text/x-python",
   "name": "python",
   "nbconvert_exporter": "python",
   "pygments_lexer": "ipython3",
   "version": "3.9.7"
  }
 },
 "nbformat": 4,
 "nbformat_minor": 5
}
